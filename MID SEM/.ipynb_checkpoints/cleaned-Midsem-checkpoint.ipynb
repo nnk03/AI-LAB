{
 "cells": [
  {
   "cell_type": "markdown",
   "metadata": {
    "id": "C5c8cD7rb-hy"
   },
   "source": [
    "\n",
    "**Mid-sem Exam (14 Mar 2023  2-4pm)**\n",
    "    "
   ]
  },
  {
   "cell_type": "markdown",
   "metadata": {
    "id": "Vyg8eDyUmoMv"
   },
   "source": [
    "**General instructions**\n",
    "\n",
    "* Solutions are to be typed in the `.ipynb` file provided and uploaded in the lab course page in Moodle before 4pm. \n",
    "* Your code should be well commented and should be compatible with python3.\n"
   ]
  },
  {
   "cell_type": "markdown",
   "metadata": {
    "id": "-3kDhLaTJ0__"
   },
   "source": [
    "# Monty Hall Game (4 marks)"
   ]
  },
  {
   "cell_type": "markdown",
   "metadata": {
    "id": "nOh55kqYJ-7v"
   },
   "source": [
    "Recall the Monty Hall game discussed in Assignment 1. Consider the variant of the game where there are $n$ boxes with $n \\geq 3$ and the host reveals the contents of $n-2$ boxes. Is it to your advantage to switch your choice in order to get the gift? How does this advantage change with $n$?\n"
   ]
  },
  {
   "cell_type": "code",
   "execution_count": 1,
   "metadata": {},
   "outputs": [
    {
     "data": {
      "image/png": "[encoded data removed]",
      "text/plain": [
       "<Figure size 640x480 with 1 Axes>"
      ]
     },
     "metadata": {},
     "output_type": "display_data"
    }
   ],
   "source": [
    "import random as rnd\n",
    "import matplotlib.pyplot as plt\n",
    "\n",
    "def montyHall(n: int):\n",
    "  isGift = [0 for _ in range(n)]\n",
    "  giftIndex = rnd.randrange(0,n)\n",
    "  firstChoice = rnd.randrange(0,n)\n",
    "  # assuming monty opened all boxes which are neither gift box or the box which the player chose\n",
    "  montyOpenedDoors = [\n",
    "    i for i in range(n) if i!=giftIndex and i!=firstChoice\n",
    "  ]\n",
    "  if firstChoice == giftIndex:\n",
    "    # if switching leads to losing the gift, we return False\n",
    "    return False\n",
    "  else:\n",
    "    return True\n",
    "  \n",
    "def probability_win(n: int):\n",
    "  count_wins = 0\n",
    "  for _ in range(1000):\n",
    "    if montyHall(n):\n",
    "      count_wins += 1\n",
    "  \n",
    "  return count_wins / 1000\n",
    "\n",
    "\n",
    "n_value = [ i for i in range(3,101)]\n",
    "probabilty_n = [\n",
    "  probability_win(i) for i in range(3,101)\n",
    "]\n",
    "\n",
    "plt.xlabel('VALUE OF N')\n",
    "plt.ylabel('PROBABILITY OF WINNING IF SWITCHED')\n",
    "plt.title('Probablity of winning vs values for n')\n",
    "plt.bar(n_value,probabilty_n)\n",
    "plt.show()"
   ]
  },
  {
   "cell_type": "markdown",
   "metadata": {
    "id": "z4Iw87TpH5Cb"
   },
   "source": [
    "# Area and $\\pi$ Estimation (6 marks)"
   ]
  },
  {
   "cell_type": "markdown",
   "metadata": {
    "id": "TIuvN4RFH8ro"
   },
   "source": [
    "(a) Write a function `generatePoint(m,n)` that takes as arguments two integers $m$, $n$ and returns a pair of numbers $(x,y)$ such that $x,y \\in_R [m,n]$. Here, $[m,n]$ denotes the set of all real numbers between $m$ and $n$ (including $m$ and $n$) and $x,y \\in_R [m,n]$ denotes that both $x$ and $y$ are picked uniformly at random from $[m,n]$.  "
   ]
  },
  {
   "cell_type": "code",
   "execution_count": 2,
   "metadata": {},
   "outputs": [],
   "source": [
    "import random as rnd\n",
    "\n",
    "def generatePoint(m: int, n:int):\n",
    "  x = m + rnd.random()*abs(n-m)\n",
    "  y = m + rnd.random()*abs(n-m)\n",
    "  return x,y"
   ]
  },
  {
   "cell_type": "markdown",
   "metadata": {
    "id": "MW5l8Zy9uLP0"
   },
   "source": [
    "(b) Each point $(x,y)$ returned by `generatePoint(0,1)` may be interpreted as a point chosen at random from the unit square whose bottom left vertex is $(0,0)$. Write a function that estimates the area of the region under the curve $y=x^2$ in this unit square. "
   ]
  },
  {
   "cell_type": "code",
   "execution_count": 3,
   "metadata": {},
   "outputs": [
    {
     "name": "stdout",
     "output_type": "stream",
     "text": [
      "The area of the region under the parabola y = x^2 where x is from 0 to 1 is\n",
      "0.334345\n"
     ]
    }
   ],
   "source": [
    "\n",
    "# estimate area of parabola under the curve y = x squared\n",
    "\n",
    "z = int(1e6)\n",
    "\n",
    "num_points_under_parabola = 0\n",
    "for _ in range(z):\n",
    "  x,y = generatePoint(0,1)\n",
    "  if y < x*x:\n",
    "    num_points_under_parabola += 1\n",
    "\n",
    "area_of_parabola = num_points_under_parabola / z\n",
    "\n",
    "print('The area of the region under the parabola y = x^2 where x is from 0 to 1 is')\n",
    "print(area_of_parabola)\n"
   ]
  },
  {
   "cell_type": "markdown",
   "metadata": {
    "id": "lAZIyE9huqZq"
   },
   "source": [
    "(c) Write a function that estimates the value of $\\pi$ using `generatePoint(0,1)`. Hint: you may want to estimate the area of the circle with center $(1/2,1/2)$ and radius $1/2$."
   ]
  },
  {
   "cell_type": "code",
   "execution_count": 4,
   "metadata": {},
   "outputs": [
    {
     "name": "stdout",
     "output_type": "stream",
     "text": [
      "The approximate value of pi is 3.142412\n"
     ]
    }
   ],
   "source": [
    "num_points_inside_circle = 0\n",
    "for _ in range(z):\n",
    "  x,y = generatePoint(0,1)\n",
    "  if (x-0.5)**2 + (y-0.5)**2 <= 0.25:\n",
    "    num_points_inside_circle += 1\n",
    "\n",
    "area_of_circle = num_points_inside_circle / z\n",
    "\n",
    "pi_approx = 4 * area_of_circle\n",
    "print(f'The approximate value of pi is {pi_approx}')\n",
    "\n"
   ]
  },
  {
   "cell_type": "markdown",
   "metadata": {
    "id": "mpgxORvJgTm3"
   },
   "source": [
    "# Erdős Number Computation (10 marks)"
   ]
  },
  {
   "cell_type": "markdown",
   "metadata": {
    "id": "AZ2iGaPsNQCM"
   },
   "source": [
    "The Erdős number of a scientist $X$ describes the \"collaborative distance\" between the mathematician Paul Erdős and $X$. Paul Erdős himself is assigned an Erdős number of zero. Scientists who have coauthored a research paper with Erdős have Erdős number 1, scientists who have collaborated with scientists having Erdős number 1 but not with Erdős have an Erdős number of 2, and so on. That is, a scientist has a finite Erdős number, say $i \\geq 1$, if and only if she has collaborated with a scientist having Erdős number $i-1$ but not with anyone who has an Erdős number less than $i-1$. \n",
    "\n",
    "Write  a program that takes a csv file as input and displays the Erdős number of all scientists in it. Each line in the csv file is of the form Scientist 1,Scientist 2 indicating that these two scientists have collaborated. Example: The entry `Alon,Erdos` indicates that Erdős and Alon have a research paper together. You may use the following code block to read from a csv file.\n",
    "\n",
    "```\n",
    "import csv\n",
    "\n",
    "with open('collab.csv') as csvfile:\n",
    "    csvreader = csv.reader(csvfile)\n",
    "```\n",
    "Here, `with open('collab.csv') as csvfile:` opens the CSV file named `collab.csv` and creates a file object named csvfile. The with statement ensures that the file is properly closed after the code block completes or in case of an error.\n",
    "`csvreader = csv.reader(csvfile)` creates a CSV reader object named `csvreader` which can be used to iterate over the rows of the CSV file. For example, \n",
    "```\n",
    "for row in csvreader: \n",
    "```\n",
    "iterates over each row in the CSV file Each row is treated as a list of strings representing the columns in the CSV file. That is, `row[0]` denotes the first column and `row[1]` denotes the second column."
   ]
  },
  {
   "cell_type": "code",
   "execution_count": 5,
   "metadata": {},
   "outputs": [],
   "source": [
    "import queue\n",
    "import csv"
   ]
  },
  {
   "cell_type": "code",
   "execution_count": 6,
   "metadata": {},
   "outputs": [],
   "source": [
    "class Scientist:\n",
    "  def __init__(self,name: str) -> None:\n",
    "    self.name = name\n",
    "    self.isVisited = False\n",
    "    self.erdoNumber = -1\n",
    "    self.collab_list = list()\n",
    "\n",
    "  def __gt__(self, other):\n",
    "    return isinstance(other, Scientist) and self.erdoNumber > other.erdoNumber\n",
    "  def __lt__(self, other):\n",
    "    return isinstance(other, Scientist) and self.erdoNumber < other.erdoNumber\n"
   ]
  },
  {
   "cell_type": "code",
   "execution_count": 7,
   "metadata": {},
   "outputs": [],
   "source": [
    "\n",
    "class Graph:\n",
    "  def __init__(self, n: int, m: int, scientist_name_list: list[str]) -> None:\n",
    "    self.num_vertices = n\n",
    "    self.num_edges = m\n",
    "    self.vertices_list = [\n",
    "      Scientist(scientist) for scientist in scientist_name_list\n",
    "    ]\n",
    "    self.vertices_dictionary = dict()\n",
    "    for scientist in self.vertices_list:\n",
    "      self.vertices_dictionary[scientist.name] = scientist\n",
    "    \n",
    "\n",
    "  def addEdge(self, name1: str, name2: str):\n",
    "    try:\n",
    "      scientist1 = self.vertices_dictionary[name1]\n",
    "      scientist2 = self.vertices_dictionary[name2]\n",
    "      scientist1: Scientist\n",
    "      scientist2: Scientist\n",
    "      scientist1.collab_list.append(scientist2)\n",
    "      scientist2.collab_list.append(scientist1)\n",
    "    except:\n",
    "      print(f'one of the scientist name not found')\n",
    "\n",
    "\n",
    "  def bfs(self,name: str):\n",
    "    scientist_dictionary = self.vertices_dictionary\n",
    "    for scientist in self.vertices_list:\n",
    "      scientist.erdoNumber = -1\n",
    "      scientist.isVisited = False\n",
    "    \n",
    "    try:\n",
    "      source = scientist_dictionary[name]\n",
    "      source: Scientist\n",
    "      source.erdoNumber = 0\n",
    "    except:\n",
    "      print(f'The name {name} not found')\n",
    "      return\n",
    "    \n",
    "    q = queue.Queue()\n",
    "    q.put(source)\n",
    "    while not q.qsize() == 0:\n",
    "      current_scientist = q.get()\n",
    "      current_scientist: Scientist\n",
    "      current_scientist.isVisited = True\n",
    "      for neighbour in current_scientist.collab_list:\n",
    "        neighbour: Scientist\n",
    "        if neighbour.isVisited == False:\n",
    "          neighbour.erdoNumber = current_scientist.erdoNumber + 1\n",
    "          q.put(neighbour)\n",
    "\n",
    "  def printErdoNumber(self):\n",
    "    for scientist in self.vertices_list:\n",
    "      scientist: Scientist\n",
    "      print(f'The erdo number of scientist {scientist.name} is {scientist.erdoNumber}')\n",
    "\n",
    "    print()\n",
    "    print()\n",
    "\n",
    "    scientist_list = list(self.vertices_list)\n",
    "    scientist_list.sort()\n",
    "\n",
    "    erdo_number_dictionary = dict()\n",
    "    for scientist in scientist_list:\n",
    "      try:\n",
    "        x = erdo_number_dictionary[scientist.erdoNumber]\n",
    "        x: list\n",
    "        x.append(scientist)\n",
    "      except:\n",
    "        erdo_number_dictionary[scientist.erdoNumber] = [scientist]\n",
    "\n",
    "    for key in erdo_number_dictionary.keys():\n",
    "      if key ==  -1:\n",
    "        print('The scientist(s) having no erdo numbers are ')\n",
    "        erdo_number_list = erdo_number_dictionary[key]\n",
    "        erdo_number_list: list\n",
    "        length = len(erdo_number_list)\n",
    "        for i in range(length):\n",
    "          scientist = erdo_number_list[i]\n",
    "          if i == length - 1:\n",
    "            print(scientist.name)\n",
    "            print()\n",
    "          else:\n",
    "            print(scientist.name, end=', ')\n",
    "            # print()\n",
    "      \n",
    "      else:\n",
    "        print(f'The scientist having erdo number as {key} are')\n",
    "        erdo_number_list = erdo_number_dictionary[key]\n",
    "        erdo_number_list: list\n",
    "        length = len(erdo_number_list)\n",
    "        for i in range(length):\n",
    "          scientist = erdo_number_list[i]\n",
    "          scientist: Scientist\n",
    "          if i == length - 1:\n",
    "            print(scientist.name)\n",
    "            print()\n",
    "          else:\n",
    "            print(scientist.name, end=', ')\n",
    "            # print()\n",
    "    del erdo_number_dictionary\n",
    "\n"
   ]
  },
  {
   "cell_type": "code",
   "execution_count": 8,
   "metadata": {},
   "outputs": [
    {
     "name": "stdout",
     "output_type": "stream",
     "text": [
      "The erdo number of scientist AHARONI is 4\n",
      "The erdo number of scientist KOMJATH is 3\n",
      "The erdo number of scientist LINIAL is 5\n",
      "The erdo number of scientist MARTIN LOEBL is 8\n",
      "The erdo number of scientist PENNY HAXELL is 9\n",
      "The erdo number of scientist THOMASSEN is 7\n",
      "The erdo number of scientist ALAN HARTMAN is 5\n",
      "The erdo number of scientist COLBOURN is 3\n",
      "The erdo number of scientist DEAN HOFFMAN is 8\n",
      "The erdo number of scientist ERIC MENDELSOHN is 8\n",
      "The erdo number of scientist KATHERINE HEINRICH is 8\n",
      "The erdo number of scientist PHELPS is 4\n",
      "The erdo number of scientist ROSA is 8\n",
      "The erdo number of scientist STINSON is 9\n",
      "The erdo number of scientist ALON is 1\n",
      "The erdo number of scientist BOLLOBAS is 2\n",
      "The erdo number of scientist ERDOS is 0\n",
      "The erdo number of scientist FAN CHUNG is 3\n",
      "The erdo number of scientist FRANKL is 4\n",
      "The erdo number of scientist FUREDI is 2\n",
      "The erdo number of scientist GIL KALAI is 4\n",
      "The erdo number of scientist HAJNAL is 2\n",
      "The erdo number of scientist KLEITMAN is 3\n",
      "The erdo number of scientist LOVASZ is 3\n",
      "The erdo number of scientist SPENCER is 6\n",
      "The erdo number of scientist TUZA is 5\n",
      "The erdo number of scientist WEST is 6\n",
      "The erdo number of scientist BABAI is 1\n",
      "The erdo number of scientist NESETRIL is 6\n",
      "The erdo number of scientist PYBER is 2\n",
      "The erdo number of scientist SOS is 5\n",
      "The erdo number of scientist GRAHAM BRIGHTWELL is 7\n",
      "The erdo number of scientist HARARY is 6\n",
      "The erdo number of scientist HELL is 7\n",
      "The erdo number of scientist KOHAYAKAWA is 8\n",
      "The erdo number of scientist MILNER is 4\n",
      "The erdo number of scientist SAUER is 5\n",
      "The erdo number of scientist SZEMEREDI is 4\n",
      "The erdo number of scientist WINKLER is 8\n",
      "The erdo number of scientist BONDY is 1\n",
      "The erdo number of scientist CHVATAL is 2\n",
      "The erdo number of scientist SIMONOVITS is 4\n",
      "The erdo number of scientist BURR is 1\n",
      "The erdo number of scientist DUKE is 2\n",
      "The erdo number of scientist FAUDREE is 2\n",
      "The erdo number of scientist RON GRAHAM is 3\n",
      "The erdo number of scientist CHARLES LINDNER is 7\n",
      "The erdo number of scientist CHRISTOPHER RODGER is 8\n",
      "The erdo number of scientist ELIZABETH BILLINGTON is 9\n",
      "The erdo number of scientist HORAK is 6\n",
      "The erdo number of scientist MULLIN is 10\n",
      "The erdo number of scientist WALTER WALLIS is 7\n",
      "The erdo number of scientist ROLF REES is 8\n",
      "The erdo number of scientist KOMLOS is 3\n",
      "The erdo number of scientist DONALD KREHER is 4\n",
      "The erdo number of scientist LIE ZHU-2 is 9\n",
      "The erdo number of scientist RODL is 2\n",
      "The erdo number of scientist VANSTONE is 10\n",
      "The erdo number of scientist RALPH STANTON is 11\n",
      "The erdo number of scientist ENOLA is 3\n",
      "The erdo number of scientist SHERLOCK is 2\n",
      "The erdo number of scientist GYARFAS is 3\n",
      "The erdo number of scientist LUCZAK is 1\n",
      "The erdo number of scientist PACH is 4\n",
      "The erdo number of scientist SHELAH is 5\n",
      "The erdo number of scientist TROTTER is 5\n",
      "The erdo number of scientist ZZZ is 1\n",
      "The erdo number of scientist JEFFRY KAHN is 4\n",
      "The erdo number of scientist JIRI MATOUSEK is 7\n",
      "The erdo number of scientist HARRY is -1\n",
      "The erdo number of scientist HERMIONE is -1\n",
      "The erdo number of scientist JAN KRATOCHVIL is 6\n",
      "The erdo number of scientist KOSTOCHKA is 3\n",
      "The erdo number of scientist SVATOPLUK POLJAK is 7\n",
      "The erdo number of scientist SAKS is 5\n",
      "\n",
      "\n",
      "The scientist(s) having no erdo numbers are \n",
      "HARRY, HERMIONE\n",
      "\n",
      "The scientist having erdo number as 0 are\n",
      "ERDOS\n",
      "\n",
      "The scientist having erdo number as 1 are\n",
      "ALON, BABAI, BONDY, BURR, LUCZAK, ZZZ\n",
      "\n",
      "The scientist having erdo number as 2 are\n",
      "BOLLOBAS, FUREDI, HAJNAL, PYBER, CHVATAL, DUKE, FAUDREE, RODL, SHERLOCK\n",
      "\n",
      "The scientist having erdo number as 3 are\n",
      "KOMJATH, COLBOURN, FAN CHUNG, KLEITMAN, LOVASZ, RON GRAHAM, KOMLOS, ENOLA, GYARFAS, KOSTOCHKA\n",
      "\n",
      "The scientist having erdo number as 4 are\n",
      "AHARONI, PHELPS, FRANKL, GIL KALAI, MILNER, SZEMEREDI, SIMONOVITS, DONALD KREHER, PACH, JEFFRY KAHN\n",
      "\n",
      "The scientist having erdo number as 5 are\n",
      "LINIAL, ALAN HARTMAN, TUZA, SOS, SAUER, SHELAH, TROTTER, SAKS\n",
      "\n",
      "The scientist having erdo number as 6 are\n",
      "SPENCER, WEST, NESETRIL, HARARY, HORAK, JAN KRATOCHVIL\n",
      "\n",
      "The scientist having erdo number as 7 are\n",
      "THOMASSEN, GRAHAM BRIGHTWELL, HELL, CHARLES LINDNER, WALTER WALLIS, JIRI MATOUSEK, SVATOPLUK POLJAK\n",
      "\n",
      "The scientist having erdo number as 8 are\n",
      "MARTIN LOEBL, DEAN HOFFMAN, ERIC MENDELSOHN, KATHERINE HEINRICH, ROSA, KOHAYAKAWA, WINKLER, CHRISTOPHER RODGER, ROLF REES\n",
      "\n",
      "The scientist having erdo number as 9 are\n",
      "PENNY HAXELL, STINSON, ELIZABETH BILLINGTON, LIE ZHU-2\n",
      "\n",
      "The scientist having erdo number as 10 are\n",
      "MULLIN, VANSTONE\n",
      "\n",
      "The scientist having erdo number as 11 are\n",
      "RALPH STANTON\n",
      "\n"
     ]
    }
   ],
   "source": [
    "with open('./collab.csv','r') as file:\n",
    "  csvreader = csv.reader(file)\n",
    "  unique_name_list = []\n",
    "  file_content_list = []\n",
    "  for row in csvreader:\n",
    "    file_content_list.append(row)\n",
    "    for name in row:\n",
    "      if name not in unique_name_list:\n",
    "        unique_name_list.append(name)\n",
    "\n",
    "\n",
    "    \n",
    "  graph = Graph(len(unique_name_list), 2*len(file_content_list), unique_name_list)\n",
    "  for edge in file_content_list:\n",
    "    graph.addEdge(edge[0],edge[1])\n",
    "  # according to the question, we have to start with ERDOS\n",
    "  graph.bfs('ERDOS')\n",
    "  graph.printErdoNumber()\n",
    "\n"
   ]
  }
 ],
 "metadata": {
  "colab": {
   "provenance": []
  },
  "kernelspec": {
   "display_name": "Python 3 (ipykernel)",
   "language": "python",
   "name": "python3"
  },
  "language_info": {
   "codemirror_mode": {
    "name": "ipython",
    "version": 3
   },
   "file_extension": ".py",
   "mimetype": "text/x-python",
   "name": "python",
   "nbconvert_exporter": "python",
   "pygments_lexer": "ipython3",
   "version": "3.9.13"
  }
 },
 "nbformat": 4,
 "nbformat_minor": 1
}
