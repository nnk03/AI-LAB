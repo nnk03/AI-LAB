{
 "cells": [
  {
   "cell_type": "code",
   "execution_count": 25,
   "metadata": {},
   "outputs": [],
   "source": [
    "import csv\n",
    "import csv, collections, re, math, numpy as np, matplotlib.pyplot as plt\n"
   ]
  },
  {
   "cell_type": "markdown",
   "metadata": {},
   "source": [
    "# Spam Filter using Naive Bayes Classifier"
   ]
  },
  {
   "cell_type": "markdown",
   "metadata": {},
   "source": [
    "You are given a collection of SMS text messages in `sms.csv` as a tab separated CSV file. The first column of this file tells whether the message is a spam or not spam and the second column gives the message. Assume that this dataset is labelled correctly as spam or not spam. We  will use this dataset as the training data to build a spam filter. "
   ]
  },
  {
   "cell_type": "markdown",
   "metadata": {},
   "source": [
    "(a) Analyze the dataset and identify top ten spam words and top ten non-spam words  and their frequency counts. Make sure that you first remove articles (\"a\", \"and\", \"the\") and <=4 letter propositions (\"for\", \"off\", \"in\", \"from\" and so on).  "
   ]
  },
  {
   "cell_type": "code",
   "execution_count": 26,
   "metadata": {},
   "outputs": [],
   "source": [
    "\n",
    "lst_csv = []\n",
    "with open('./sms.csv', 'r') as file:\n",
    "  csv_reader = csv.reader(file, delimiter='\\t')\n",
    "  for row in csv_reader:\n",
    "    ch = ''\n",
    "    for string in row[1:]:\n",
    "      ch += string\n",
    "    \n",
    "    lst_csv.append([row[0],ch])\n",
    "\n"
   ]
  },
  {
   "cell_type": "code",
   "execution_count": 27,
   "metadata": {},
   "outputs": [
    {
     "name": "stdout",
     "output_type": "stream",
     "text": [
      "True\n"
     ]
    }
   ],
   "source": [
    "\n",
    "for row in lst_csv:\n",
    "  if len(row)!=2:\n",
    "    print(False)\n",
    "    break\n",
    "print(True)"
   ]
  },
  {
   "cell_type": "code",
   "execution_count": 28,
   "metadata": {},
   "outputs": [],
   "source": [
    "# for row in lst_csv:\n",
    "#   print(row)"
   ]
  },
  {
   "cell_type": "code",
   "execution_count": 29,
   "metadata": {},
   "outputs": [],
   "source": [
    "messages = [\n",
    "  row[1] for row in lst_csv\n",
    "]"
   ]
  },
  {
   "cell_type": "code",
   "execution_count": 30,
   "metadata": {},
   "outputs": [],
   "source": [
    "from collections import Counter"
   ]
  },
  {
   "cell_type": "code",
   "execution_count": 31,
   "metadata": {},
   "outputs": [],
   "source": [
    "# z = Counter(messages)"
   ]
  },
  {
   "cell_type": "code",
   "execution_count": 32,
   "metadata": {},
   "outputs": [],
   "source": [
    "message_words = []\n",
    "abandon_words = set('a an the on at for from in out to and is of my me your have it are that or be with will not can 2 if'.split())\n",
    "\n",
    "abandon_words_lst = ['i', 'me', 'my', 'myself', 'we', 'our', 'ours', 'ourselves', 'you', \"you're\", \"you've\", \"you'll\", \"you'd\", 'your', 'yours', 'yourself', 'yourselves', 'he', 'him', 'his', 'himself', 'she', \"she's\", 'her', 'hers', 'herself', 'it', \"it's\", 'its', 'itself', 'they', 'them', 'their', 'theirs', 'themselves', 'what', 'which', 'who', 'whom', 'this', 'that', \"that'll\", 'these', 'those', 'am', 'is', 'are', 'was', 'were', 'be', 'been', 'being', 'have', 'has', 'had', 'having', 'do', 'does', 'did', 'doing', 'a', 'an', 'the', 'and', 'but', 'if', 'or', 'because', 'as', 'until', 'while', 'of', 'at', 'by', 'for', 'with', 'about', 'against', 'between', 'into', 'through', 'during', 'before', 'after', 'above', 'below', 'to', 'from', 'up', 'down', 'in', 'out', 'on', 'off', 'over', 'under', 'again', 'further', 'then', 'once', 'here', 'there', 'when', 'where', 'why', 'how', 'all', 'any', 'both', 'each', 'few', 'more', 'most', 'other', 'some', 'such', 'no', 'nor', 'not', 'only', 'own', 'same', 'so', 'than', 'too', 'very', 's', 't', 'can', 'will', 'just', 'don', \"don't\", 'should', \"should've\", 'now', 'd', 'll', 'm', 'o', 're', 've', 'y', 'ain', 'aren', \"aren't\", 'couldn', \"couldn't\", 'didn', \"didn't\", 'doesn', \"doesn't\", 'hadn', \"hadn't\", 'hasn', \"hasn't\", 'haven', \"haven't\", 'isn', \"isn't\", 'ma', 'mightn', \"mightn't\", 'mustn', \"mustn't\", 'needn', \"needn't\", 'shan', \"shan't\", 'shouldn', \"shouldn't\", 'wasn', \"wasn't\", 'weren', \"weren't\", 'won', \"won't\", 'wouldn', \"wouldn't\"]\n",
    "\n",
    "abandon_words_lst = [\n",
    "  h for h in abandon_words_lst if len(h) <=4\n",
    "]\n",
    "\n",
    "# if we want to split the dataset to training and testing dataset\n",
    "# lst_csv, test_set = lst_csv[0:int(0.8 * len(lst_csv))], lst_csv[int(0.8 * len(lst_csv)):]\n",
    "\n",
    "abandon_words = abandon_words.union(\n",
    "  set(abandon_words_lst)\n",
    ")\n",
    "spam_words = []\n",
    "non_spam_words = []\n",
    "for row in lst_csv:\n",
    "  string = row[1]\n",
    "  if isinstance(string, str):\n",
    "    lst = string.split()\n",
    "    # string = string.strip('$.,/!@#$%^&*()-=_+[]{}1234567890 ')\n",
    "\n",
    "    lst = [\n",
    "      word.strip('$.,/!@#$%^&*()-=_+[]{}1234567890£ ') for word in lst\n",
    "    ]\n",
    "    lst = [\n",
    "      word.replace(\"\\'s\",'') for word in lst\n",
    "    ]\n",
    "    lst = [\n",
    "      word.strip('\\'\\\"') for word in lst\n",
    "    ]\n",
    "    lst = [\n",
    "      word.lower() for word in lst if word!=''\n",
    "    ]\n",
    "\n",
    "    # string = string.lower()\n",
    "    # z = string.split()\n",
    "    lst_to_extend = []\n",
    "    \n",
    "    for word in lst:\n",
    "      if word not in abandon_words:\n",
    "        lst_to_extend.append(word)\n",
    "\n",
    "    message_words.extend(lst_to_extend)\n",
    "    if row[0] == 'spam':\n",
    "      spam_words.extend(lst_to_extend)\n",
    "    else:\n",
    "      non_spam_words.extend(lst_to_extend)\n"
   ]
  },
  {
   "cell_type": "code",
   "execution_count": 33,
   "metadata": {},
   "outputs": [
    {
     "data": {
      "text/plain": [
       "[('u', 1060),\n",
       " ('call', 568),\n",
       " ('ur', 381),\n",
       " ('get', 375),\n",
       " (\"i'm\", 372),\n",
       " ('lt;#&gt;', 275),\n",
       " ('go', 270),\n",
       " ('free', 268),\n",
       " ('ok', 258),\n",
       " ('know', 246)]"
      ]
     },
     "execution_count": 33,
     "metadata": {},
     "output_type": "execute_result"
    }
   ],
   "source": [
    "# for word in message_words:\n",
    "#   print(word)\n",
    "# print(message_words)\n",
    "z = Counter(message_words)\n",
    "# print(z)\n",
    "z.most_common(10)\n"
   ]
  },
  {
   "cell_type": "code",
   "execution_count": 34,
   "metadata": {},
   "outputs": [],
   "source": [
    "# import re\n",
    "# stri = \"we's+op hefklj*uh&jj12\"\n",
    "# l = re.findall(r'\\w+',stri)\n",
    "# print(l)"
   ]
  },
  {
   "cell_type": "code",
   "execution_count": 35,
   "metadata": {},
   "outputs": [],
   "source": [
    "# spam_words\n",
    "\n",
    "spam_words_count = Counter(spam_words)\n",
    "non_spam_words_count = Counter(non_spam_words)\n"
   ]
  },
  {
   "cell_type": "code",
   "execution_count": 36,
   "metadata": {},
   "outputs": [],
   "source": [
    "# spam_words_count.most_common(10)"
   ]
  },
  {
   "cell_type": "markdown",
   "metadata": {},
   "source": [
    "(b) Let `W` be the random variable denoting a word and `T` be the random variable denoting a message's type (spam or non-spam). For each of the words `w` (spam or non-spam), estimate the likelihood probabilities (aka the conditional probabilities) `Pr(W = w | T=spam)` and `Pr(W=w | T=non-spam)` as two separate functions. Note  that in order to compute these likelihoods this, you need to compute how many times `w` appears in the corpus (spam or not spam) and the total number of words (including duplicates) in that corpus. If a word does not occur at all, then assign it a non-zero yet small probability fixed suitably. Note that the likelihoods `Pr(w | spam)` and `Pr(w | non-spam)` have to be estimated after suitably removing articles and propositions as done in (a). "
   ]
  },
  {
   "cell_type": "code",
   "execution_count": 37,
   "metadata": {},
   "outputs": [],
   "source": [
    "\n",
    "prob_w_given_spam = dict()\n",
    "prob_w_given_non_spam = dict()\n",
    "total_spam_words = len(spam_words)\n",
    "total_non_spam_words = len(non_spam_words)\n",
    "for word in message_words:\n",
    "  try:\n",
    "    # if word present in spam_words\n",
    "    freq_word = spam_words_count[word]\n",
    "    prob_w_given_spam[word] = freq_word/total_spam_words\n",
    "  except:\n",
    "    # if word not in spam words\n",
    "    prob_w_given_spam[word] = 0.001\n",
    "\n",
    "  try:\n",
    "    # if word present in non_spam_words\n",
    "    freq_word = non_spam_words_count[word]\n",
    "    prob_w_given_non_spam[word] = freq_word/total_non_spam_words\n",
    "  except:\n",
    "    # if word not in non spam words\n",
    "    prob_w_given_non_spam[word] = 0.001\n",
    "\n",
    "\n"
   ]
  },
  {
   "cell_type": "code",
   "execution_count": 38,
   "metadata": {},
   "outputs": [
    {
     "name": "stdout",
     "output_type": "stream",
     "text": [
      "1.0000000000000593\n",
      "0.9999999999999731\n"
     ]
    }
   ],
   "source": [
    "print(sum(prob_w_given_non_spam.values()))\n",
    "print(sum(prob_w_given_spam.values()))\n",
    "\n",
    "for val in prob_w_given_spam.values():\n",
    "  if val > 1:\n",
    "    print(False)\n",
    "    \n",
    "for val in prob_w_given_non_spam.values():\n",
    "  if val > 1:\n",
    "    print(False)\n",
    "\n"
   ]
  },
  {
   "cell_type": "code",
   "execution_count": 39,
   "metadata": {},
   "outputs": [],
   "source": [
    "prob_spam = total_spam_words / (total_spam_words + total_non_spam_words)\n",
    "prob_not_spam = total_non_spam_words / (total_spam_words + total_non_spam_words)"
   ]
  },
  {
   "cell_type": "markdown",
   "metadata": {},
   "source": [
    "(c) Let `M` be the random variable denoting a message (consisting of multiple words). Using the likelihood probabilities calculated in (b), implement a classifier that takes in a new SMS message `m=w1 w2 ... wi` and checks if it is spam or not using the naive Bayes' assumption. That is, compute `P(T=spam | M=m)` and `P(T=non-spam | M=m)` assuming that `P(m | spam) = P(w1 | spam) x P(w2 | spam) x ... x P(wi | spam)` and use this computation to decide if `m` is spam or not. "
   ]
  },
  {
   "cell_type": "code",
   "execution_count": 40,
   "metadata": {},
   "outputs": [],
   "source": [
    "def predict_spam_message(message: str, spam_words: list, non_spam_words: list):\n",
    "  lst_words = message.split()\n",
    "  lst_words = [\n",
    "    word.lower() for word in lst_words\n",
    "  ]\n",
    "  predict_spam = 1\n",
    "  predict_non_spam = 1\n",
    "  \n",
    "  prob_w_given_spam = dict()\n",
    "  prob_w_given_non_spam = dict()\n",
    "  total_spam_words = len(spam_words)\n",
    "  total_non_spam_words = len(non_spam_words)\n",
    "  for word in message_words:\n",
    "    try:\n",
    "      # if word present in spam_words\n",
    "      freq_word = spam_words_count[word]\n",
    "      prob_w_given_spam[word] = freq_word/total_spam_words\n",
    "    except:\n",
    "      # if word not in spam words\n",
    "      prob_w_given_spam[word] = 0.001\n",
    "\n",
    "    try:\n",
    "      # if word present in non_spam_words\n",
    "      freq_word = non_spam_words_count[word]\n",
    "      prob_w_given_non_spam[word] = freq_word/total_non_spam_words\n",
    "    except:\n",
    "      # if word not in non spam words\n",
    "      prob_w_given_non_spam[word] = 0.001\n",
    "  prob_spam = total_spam_words / (total_spam_words + total_non_spam_words)\n",
    "  prob_not_spam = total_non_spam_words / (total_spam_words + total_non_spam_words)\n",
    "\n",
    "\n",
    "  for word in lst_words:\n",
    "    try:\n",
    "      prob_word_given_spam = prob_w_given_spam[word]\n",
    "      predict_spam *= prob_word_given_spam\n",
    "    except:\n",
    "      predict_spam *= 0.001\n",
    "    \n",
    "    try:\n",
    "      prob_word_given_not_spam = prob_w_given_non_spam[word]\n",
    "      predict_non_spam *= prob_word_given_not_spam\n",
    "    except:\n",
    "      predict_non_spam *= 0.001\n",
    "    \n",
    "  predict_spam *= prob_spam\n",
    "  predict_non_spam *= prob_not_spam\n",
    "\n",
    "  if predict_spam > predict_non_spam:\n",
    "    return 'Spam'\n",
    "  else:\n",
    "    return 'Not spam'\n",
    "\n",
    "  "
   ]
  },
  {
   "cell_type": "code",
   "execution_count": 41,
   "metadata": {},
   "outputs": [
    {
     "data": {
      "text/plain": [
       "'Spam'"
      ]
     },
     "execution_count": 41,
     "metadata": {},
     "output_type": "execute_result"
    }
   ],
   "source": [
    "\n",
    "predict_spam_message('call free ur u',spam_words, non_spam_words)\n",
    "\n"
   ]
  },
  {
   "cell_type": "code",
   "execution_count": 42,
   "metadata": {},
   "outputs": [
    {
     "data": {
      "image/png": "[encoded data removed]",
      "text/plain": [
       "<Figure size 2000x1000 with 1 Axes>"
      ]
     },
     "metadata": {},
     "output_type": "display_data"
    }
   ],
   "source": [
    "# plt.bar(spam_words_count.most_common(10))\n",
    "\n",
    "\n",
    "x = spam_words_count.most_common(10)\n",
    "plt.figure(figsize=(20,10))\n",
    "# print(x)\n",
    "plt.bar(\n",
    "  [y[0] for y in x],\n",
    "  [y[1] for y in x]\n",
    ")\n",
    "\n",
    "plt.show()"
   ]
  },
  {
   "cell_type": "code",
   "execution_count": 43,
   "metadata": {},
   "outputs": [
    {
     "data": {
      "image/png": "[encoded data removed]",
      "text/plain": [
       "<Figure size 2000x1000 with 1 Axes>"
      ]
     },
     "metadata": {},
     "output_type": "display_data"
    }
   ],
   "source": [
    "\n",
    "x = non_spam_words_count.most_common(10)\n",
    "plt.figure(figsize=(20,10))\n",
    "# print(x)\n",
    "plt.bar(\n",
    "  [y[0] for y in x],\n",
    "  [y[1] for y in x]\n",
    ")\n",
    "\n",
    "plt.show()"
   ]
  },
  {
   "cell_type": "code",
   "execution_count": 44,
   "metadata": {},
   "outputs": [],
   "source": [
    "\n",
    "# accuracy for training dataset\n",
    "\n",
    "# count = 0\n",
    "\n",
    "# for row in lst_csv:\n",
    "#   if row[0] == 'spam' and predict_spam_message(row[1], spam_words, non_spam_words) == 'Spam':\n",
    "#     count += 1\n",
    "#   elif row[0] == 'notspam' and predict_spam_message(row[1], spam_words, non_spam_words) == 'Not spam':\n",
    "#     count += 1\n",
    "\n",
    "\n",
    "# print(count/len(lst_csv))\n"
   ]
  },
  {
   "cell_type": "code",
   "execution_count": 45,
   "metadata": {},
   "outputs": [],
   "source": [
    "def predict_spam_message_using_dictionary(message: str, prob_w_given_spam: dict, prob_w_given_non_spam: dict):\n",
    "  lst_words = message.split()\n",
    "  lst_words = [\n",
    "    word.lower() for word in lst_words\n",
    "  ]\n",
    "  predict_spam = 1\n",
    "  predict_non_spam = 1\n",
    "  \n",
    "  # prob_w_given_spam = dict()\n",
    "  # prob_w_given_non_spam = dict()\n",
    "  global total_spam_words\n",
    "  global total_non_spam_words \n",
    "  for word in message_words:\n",
    "    try:\n",
    "      # if word present in spam_words\n",
    "      freq_word = spam_words_count[word]\n",
    "      prob_w_given_spam[word] = freq_word/total_spam_words\n",
    "    except:\n",
    "      # if word not in spam words\n",
    "      prob_w_given_spam[word] = 0.001\n",
    "\n",
    "    try:\n",
    "      # if word present in non_spam_words\n",
    "      freq_word = non_spam_words_count[word]\n",
    "      prob_w_given_non_spam[word] = freq_word/total_non_spam_words\n",
    "    except:\n",
    "      # if word not in non spam words\n",
    "      prob_w_given_non_spam[word] = 0.001\n",
    "  prob_spam = total_spam_words / (total_spam_words + total_non_spam_words)\n",
    "  prob_not_spam = total_non_spam_words / (total_spam_words + total_non_spam_words)\n",
    "\n",
    "\n",
    "  for word in lst_words:\n",
    "    try:\n",
    "      prob_word_given_spam = prob_w_given_spam[word]\n",
    "      predict_spam *= prob_word_given_spam\n",
    "    except:\n",
    "      predict_spam *= 0.001\n",
    "    \n",
    "    try:\n",
    "      prob_word_given_not_spam = prob_w_given_non_spam[word]\n",
    "      predict_non_spam *= prob_word_given_not_spam\n",
    "    except:\n",
    "      predict_non_spam *= 0.001\n",
    "    \n",
    "  predict_spam *= prob_spam\n",
    "  predict_non_spam *= prob_not_spam\n",
    "\n",
    "  if predict_spam > predict_non_spam:\n",
    "    return 'Spam'\n",
    "  else:\n",
    "    return 'Not spam'\n",
    "\n",
    "  "
   ]
  },
  {
   "cell_type": "code",
   "execution_count": 46,
   "metadata": {},
   "outputs": [],
   "source": [
    "\n",
    "# accuracy for training dataset\n",
    "\n",
    "# count = 0\n",
    "\n",
    "# # for row in lst_csv:\n",
    "# for i in range(len(lst_csv)):\n",
    "#   row = lst_csv[i]\n",
    "#   print(i)\n",
    "\n",
    "#   if row[0] == 'spam' and predict_spam_message_using_dictionary(row[1], prob_w_given_spam, prob_w_given_non_spam) == 'Spam':\n",
    "#     count += 1\n",
    "#   elif row[0] == 'notspam' and predict_spam_message_using_dictionary(row[1], prob_w_given_spam, prob_w_given_non_spam) == 'Not spam':\n",
    "#     count += 1\n",
    "\n",
    "\n",
    "# print(count/len(lst_csv))\n",
    "\n",
    "\n",
    "# accuracy is 0.9928519061583577\n",
    "\n"
   ]
  },
  {
   "cell_type": "markdown",
   "metadata": {},
   "source": [
    "(d) Test your classifier against 4-5 SMS messages (spam as well as non-spam) that you have received in your mobile phone."
   ]
  },
  {
   "cell_type": "code",
   "execution_count": 47,
   "metadata": {},
   "outputs": [
    {
     "name": "stdout",
     "output_type": "stream",
     "text": [
      "Spam\n",
      "Spam\n",
      "Not spam\n",
      "Not spam\n",
      "Spam\n",
      "Not spam\n",
      "Not spam\n",
      "Not spam\n"
     ]
    }
   ],
   "source": [
    "# predict_spam_message(message, spam_words, non_spam_words)\n",
    "\n",
    "message_in_mobile = [\n",
    "  'Receive Rs.1500* Bonus',\n",
    "  'Goibibo: Need to travel to Thekkady? Then book an amazing stay & get upto 25% OFF. Code: GISUPER. Book now. go.ibibo.com/MsUpqC',\n",
    "  'Hi Neeraj, Rs 30 corner is live for you on bigbasket. Find all the best sellers within Rs 30 here https://u1.mnge.co/33EEQE8',\n",
    "  'Welcome to Jio-Kerala. Kindly enable Data Roaming to use data services. Data, Voice & SMS benefits will be as per your plan.',\n",
    "  'Dear Customer, You have a missed call from The last missed call was at 11:51 AM on 24-Feb-2023 Thankyou, Team Jio.',\n",
    "  \"Don't lock if u feel u won't hear when I knock the door\",\n",
    "  \"I'm posting it here, so that if someone gets a solution, please post the solution (even if it is done roughly) too, so that everyone can refer to it if they don't get...\",\n",
    "  \"As of now it seems best that we just do some background check on the proffs\",\n",
    "]\n",
    "\n",
    "for m in message_in_mobile:\n",
    "  print(predict_spam_message(m,spam_words,non_spam_words))\n"
   ]
  },
  {
   "cell_type": "code",
   "execution_count": 48,
   "metadata": {},
   "outputs": [],
   "source": [
    "# z = 0\n",
    "# for row in test_set:\n",
    "#   x = predict_spam_message(row[1], spam_words, non_spam_words)\n",
    "#   if x=='Spam' and row[0] == 'spam':\n",
    "#     z += 1\n",
    "#   elif x == 'Not spam' and row[0] == 'notspam':\n",
    "#     z += 1\n",
    "\n",
    "\n",
    "# print(z/len(test_set))\n",
    "\n",
    "\n",
    "\n"
   ]
  },
  {
   "cell_type": "code",
   "execution_count": null,
   "metadata": {},
   "outputs": [],
   "source": []
  }
 ],
 "metadata": {
  "kernelspec": {
   "display_name": "Python 3 (ipykernel)",
   "language": "python",
   "name": "python3"
  },
  "language_info": {
   "codemirror_mode": {
    "name": "ipython",
    "version": 3
   },
   "file_extension": ".py",
   "mimetype": "text/x-python",
   "name": "python",
   "nbconvert_exporter": "python",
   "pygments_lexer": "ipython3",
   "version": "3.9.13"
  }
 },
 "nbformat": 4,
 "nbformat_minor": 2
}
